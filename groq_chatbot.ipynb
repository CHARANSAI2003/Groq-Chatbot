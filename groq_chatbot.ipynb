{
 "cells": [
  {
   "cell_type": "code",
   "execution_count": 1,
   "id": "6ea98663-2574-413a-98bc-06a327f69b66",
   "metadata": {},
   "outputs": [
    {
     "name": "stdout",
     "output_type": "stream",
     "text": [
      "Requirement already satisfied: openai in c:\\users\\charan sai b\\appdata\\local\\programs\\python\\python313\\lib\\site-packages (1.93.0)\n",
      "Requirement already satisfied: anyio<5,>=3.5.0 in c:\\users\\charan sai b\\appdata\\local\\programs\\python\\python313\\lib\\site-packages (from openai) (4.9.0)\n",
      "Requirement already satisfied: distro<2,>=1.7.0 in c:\\users\\charan sai b\\appdata\\local\\programs\\python\\python313\\lib\\site-packages (from openai) (1.9.0)\n",
      "Requirement already satisfied: httpx<1,>=0.23.0 in c:\\users\\charan sai b\\appdata\\local\\programs\\python\\python313\\lib\\site-packages (from openai) (0.28.1)\n",
      "Requirement already satisfied: jiter<1,>=0.4.0 in c:\\users\\charan sai b\\appdata\\local\\programs\\python\\python313\\lib\\site-packages (from openai) (0.10.0)\n",
      "Requirement already satisfied: pydantic<3,>=1.9.0 in c:\\users\\charan sai b\\appdata\\local\\programs\\python\\python313\\lib\\site-packages (from openai) (2.11.7)\n",
      "Requirement already satisfied: sniffio in c:\\users\\charan sai b\\appdata\\local\\programs\\python\\python313\\lib\\site-packages (from openai) (1.3.1)\n",
      "Requirement already satisfied: tqdm>4 in c:\\users\\charan sai b\\appdata\\local\\programs\\python\\python313\\lib\\site-packages (from openai) (4.67.1)\n",
      "Requirement already satisfied: typing-extensions<5,>=4.11 in c:\\users\\charan sai b\\appdata\\local\\programs\\python\\python313\\lib\\site-packages (from openai) (4.14.1)\n",
      "Requirement already satisfied: idna>=2.8 in c:\\users\\charan sai b\\appdata\\local\\programs\\python\\python313\\lib\\site-packages (from anyio<5,>=3.5.0->openai) (3.10)\n",
      "Requirement already satisfied: certifi in c:\\users\\charan sai b\\appdata\\local\\programs\\python\\python313\\lib\\site-packages (from httpx<1,>=0.23.0->openai) (2025.6.15)\n",
      "Requirement already satisfied: httpcore==1.* in c:\\users\\charan sai b\\appdata\\local\\programs\\python\\python313\\lib\\site-packages (from httpx<1,>=0.23.0->openai) (1.0.9)\n",
      "Requirement already satisfied: h11>=0.16 in c:\\users\\charan sai b\\appdata\\local\\programs\\python\\python313\\lib\\site-packages (from httpcore==1.*->httpx<1,>=0.23.0->openai) (0.16.0)\n",
      "Requirement already satisfied: annotated-types>=0.6.0 in c:\\users\\charan sai b\\appdata\\local\\programs\\python\\python313\\lib\\site-packages (from pydantic<3,>=1.9.0->openai) (0.7.0)\n",
      "Requirement already satisfied: pydantic-core==2.33.2 in c:\\users\\charan sai b\\appdata\\local\\programs\\python\\python313\\lib\\site-packages (from pydantic<3,>=1.9.0->openai) (2.33.2)\n",
      "Requirement already satisfied: typing-inspection>=0.4.0 in c:\\users\\charan sai b\\appdata\\local\\programs\\python\\python313\\lib\\site-packages (from pydantic<3,>=1.9.0->openai) (0.4.1)\n",
      "Requirement already satisfied: colorama in c:\\users\\charan sai b\\appdata\\local\\programs\\python\\python313\\lib\\site-packages (from tqdm>4->openai) (0.4.6)\n",
      "Note: you may need to restart the kernel to use updated packages.\n"
     ]
    }
   ],
   "source": [
    "pip install openai"
   ]
  },
  {
   "cell_type": "code",
   "execution_count": null,
   "id": "759079dd-1e9c-4506-8185-10f3c0bd4190",
   "metadata": {},
   "outputs": [],
   "source": [
    "from openai import OpenAI\n",
    "\n",
    "client = OpenAI(\n",
    "    api_key=\"\",\n",
    "    base_url=\"https://api.groq.com/openai/v1\"\n",
    ")\n"
   ]
  },
  {
   "cell_type": "code",
   "execution_count": null,
   "id": "1d86f120-0853-4a88-bb66-13326c5dea52",
   "metadata": {},
   "outputs": [
    {
     "name": "stdout",
     "output_type": "stream",
     "text": [
      "🤖 Groq Chatbot (LLaMA3-70B). Type 'exit' to quit.\n",
      "\n"
     ]
    },
    {
     "name": "stdout",
     "output_type": "stream",
     "text": [
      "You:  Even or odd program in Python\n"
     ]
    },
    {
     "name": "stdout",
     "output_type": "stream",
     "text": [
      "Bot: Here is a simple Python program that determines whether a given integer is even or odd:\n",
      "```\n",
      "def is_even_or_odd(n):\n",
      "    if n % 2 == 0:\n",
      "        return \"Even\"\n",
      "    else:\n",
      "        return \"Odd\"\n",
      "\n",
      "# Test the function\n",
      "num = int(input(\"Enter an integer: \"))\n",
      "print(is_even_or_odd(num))\n",
      "```\n",
      "Here's how the program works:\n",
      "\n",
      "1. The `is_even_or_odd` function takes an integer `n` as input.\n",
      "2. The function uses the modulo operator (`%`) to check whether `n` is divisible by 2.\n",
      "3. If `n` is divisible by 2, the remainder of the division is 0, and the function returns the string \"Even\".\n",
      "4. If `n` is not divisible by 2, the remainder is non-zero, and the function returns the string \"Odd\".\n",
      "5. In the main part of the program, we prompt the user to enter an integer using the `input` function.\n",
      "6. We pass the user's input to the `is_even_or_odd` function and print the result.\n",
      "\n",
      "Example output:\n",
      "```\n",
      "Enter an integer: 42\n",
      "Even\n",
      "\n",
      "Enter an integer: 31\n",
      "Odd\n",
      "```\n",
      "You can also use a ternary operator to make the code more concise:\n",
      "```\n",
      "def is_even_or_odd(n):\n",
      "    return \"Even\" if n % 2 == 0 else \"Odd\"\n",
      "```\n",
      "This will achieve the same result as the original code, but in a more compact form.\n",
      "\n"
     ]
    }
   ],
   "source": [
    "\n",
    "# Model to use (LLaMA3)\n",
    "MODEL = \"llama3-70b-8192\"\n",
    "\n",
    "def chat():\n",
    "    print(\"🤖 Groq Chatbot (LLaMA3-70B). Type 'exit' to quit.\\n\")\n",
    "    history = []\n",
    "\n",
    "    while True:\n",
    "        user_input = input(\"You: \")\n",
    "        if user_input.lower() == \"exit\":\n",
    "            break\n",
    "\n",
    "        # Append user message to history\n",
    "        history.append({\"role\": \"user\", \"content\": user_input})\n",
    "\n",
    "        # Make the API call\n",
    "        response = client.chat.completions.create(\n",
    "            model=MODEL,\n",
    "            messages=history,\n",
    "            temperature=0.7\n",
    "        )\n",
    "\n",
    "        reply = response.choices[0].message.content\n",
    "        print(f\"Bot: {reply}\\n\")\n",
    "\n",
    "        # Append bot response to history\n",
    "        history.append({\"role\": \"assistant\", \"content\": reply})\n",
    "\n",
    "if __name__ == \"__main__\":\n",
    "    chat()\n"
   ]
  },
  {
   "cell_type": "code",
   "execution_count": null,
   "id": "fcb1888d-2114-491f-b92a-21da95c754f3",
   "metadata": {},
   "outputs": [],
   "source": []
  }
 ],
 "metadata": {
  "kernelspec": {
   "display_name": "Python 3 (ipykernel)",
   "language": "python",
   "name": "python3"
  },
  "language_info": {
   "codemirror_mode": {
    "name": "ipython",
    "version": 3
   },
   "file_extension": ".py",
   "mimetype": "text/x-python",
   "name": "python",
   "nbconvert_exporter": "python",
   "pygments_lexer": "ipython3",
   "version": "3.13.5"
  }
 },
 "nbformat": 4,
 "nbformat_minor": 5
}
